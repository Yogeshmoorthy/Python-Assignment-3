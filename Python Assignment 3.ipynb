{
 "cells": [
  {
   "cell_type": "markdown",
   "metadata": {},
   "source": [
    "## Write a Python Program to implement your own myreduce() function which works exactly like Python's built-in function reduce()"
   ]
  },
  {
   "cell_type": "code",
   "execution_count": 52,
   "metadata": {},
   "outputs": [
    {
     "name": "stdout",
     "output_type": "stream",
     "text": [
      "Enter number of elements : 4\n",
      "Enter the element : 1\n",
      "Enter the element : 2\n",
      "Enter the element : 3\n",
      "Enter the element : 4\n",
      "The List you are passing is :  [1, 2, 3, 4]\n",
      "The output after the Reduce function is :  10\n"
     ]
    }
   ],
   "source": [
    "input_list = []\n",
    "n = int(input(\"Enter number of elements : \")) \n",
    "for i in range(n):\n",
    "    element = int(input(\"Enter the element : \"))\n",
    "    input_list.append(element)\n",
    "print('The List you are passing is : ',input_list)\n",
    "\n",
    "def myreduce(funct, input_list):\n",
    "    result = input_list[0]\n",
    "    for i in input_list[1:]:\n",
    "        result = funct(result, i)\n",
    "    return result\n",
    "\n",
    "\n",
    "def sum(x,y): \n",
    "    return x + y\n",
    "\n",
    "output = myreduce(sum,input_list)\n",
    "\n",
    "print('The output after the Reduce function is : ',output)"
   ]
  },
  {
   "cell_type": "markdown",
   "metadata": {},
   "source": [
    "## Write a Python program to implement your own myfilter() function which works exactly like Python's built-in function filter()"
   ]
  },
  {
   "cell_type": "code",
   "execution_count": 53,
   "metadata": {},
   "outputs": [
    {
     "name": "stdout",
     "output_type": "stream",
     "text": [
      "Enter the starting point : 5\n",
      "Enter the ending point : 23\n",
      "Output List is\n",
      "[7, 14, 21]\n"
     ]
    }
   ],
   "source": [
    "# Using the own filter function to find the range of numbers which are all divisible by 7 from the user's input\n",
    "\n",
    "a = int(input(\"Enter the starting point : \"))\n",
    "b = int(input(\"Enter the ending point : \"))\n",
    "input_list = []\n",
    "for i in range(a,b):\n",
    "    input_list.append(i)\n",
    "\n",
    "def myfilter(lis):\n",
    "    output=[]\n",
    "    for i in lis:\n",
    "        if i%7==0:\n",
    "            output.append(i)\n",
    "    return output\n",
    "print(\"Output List is\")\n",
    "print(myfilter(input_list))"
   ]
  },
  {
   "cell_type": "markdown",
   "metadata": {},
   "source": [
    "## List Comprehension for ['x', 'xx', 'xxx', 'xxxx', 'y', 'yy', 'yyy', 'yyyy', 'z', 'zz', 'zzz', 'zzzz']"
   ]
  },
  {
   "cell_type": "code",
   "execution_count": 47,
   "metadata": {},
   "outputs": [
    {
     "name": "stdout",
     "output_type": "stream",
     "text": [
      "Input List is :  ['x', 'y', 'z']\n",
      "['x', 'xx', 'xxx', 'xxxx', 'y', 'yy', 'yyy', 'yyyy', 'z', 'zz', 'zzz', 'zzzz']\n"
     ]
    }
   ],
   "source": [
    "input_list = ['x','y','z']\n",
    "output = [i*j for i in (input_list) for j in range(1,5)]\n",
    "print('Input List is : ',input_list)\n",
    "print(output)"
   ]
  },
  {
   "cell_type": "markdown",
   "metadata": {},
   "source": [
    "\n",
    "# List Comprehension for ['x', 'y', 'z', 'xx', 'yy', 'zz', 'xxx', 'yyy', 'zzz', 'xxxx', 'yyyy', 'zzzz']"
   ]
  },
  {
   "cell_type": "code",
   "execution_count": 48,
   "metadata": {},
   "outputs": [
    {
     "name": "stdout",
     "output_type": "stream",
     "text": [
      "Input List is :  ['x', 'y', 'z']\n",
      "The result is :  ['x', 'y', 'z', 'xx', 'yy', 'zz', 'xxx', 'yyy', 'zzz', 'xxxx', 'yyyy', 'zzzz']\n"
     ]
    }
   ],
   "source": [
    "input_list = ['x','y','z']\n",
    "output = [ i*j for j in range(1,5) for i in input_list  ]\n",
    "print('Input List is : ',input_list)\n",
    "print('The result is : ',output)"
   ]
  },
  {
   "cell_type": "markdown",
   "metadata": {},
   "source": [
    "# List Comprehension for [[2], [3], [4], [3], [4], [5], [4], [5], [6]]"
   ]
  },
  {
   "cell_type": "code",
   "execution_count": 49,
   "metadata": {},
   "outputs": [
    {
     "name": "stdout",
     "output_type": "stream",
     "text": [
      "Input List is :  [2, 3, 4]\n",
      "Result is :  [[2], [3], [4], [3], [4], [5], [4], [5], [6]]\n"
     ]
    }
   ],
   "source": [
    "input_list = [2,3,4]\n",
    "output =  [[i+j]  for i in input_list for j in range(0,3)  ] \n",
    "print(\"Input List is : \",input_list)\n",
    "print('Result is : ',output)\n"
   ]
  },
  {
   "cell_type": "markdown",
   "metadata": {},
   "source": [
    "# List Comprehension for [[2, 3, 4, 5], [3, 4, 5, 6], [4, 5, 6, 7], [5, 6, 7, 8]]"
   ]
  },
  {
   "cell_type": "code",
   "execution_count": 50,
   "metadata": {},
   "outputs": [
    {
     "name": "stdout",
     "output_type": "stream",
     "text": [
      "Input List is :  [2, 3, 4, 5]\n",
      "Output is : [[2, 3, 4, 5], [3, 4, 5, 6], [4, 5, 6, 7], [5, 6, 7, 8]]\n"
     ]
    }
   ],
   "source": [
    "input_list = [2,3,4,5]\n",
    "output = [ [i+j for i in input_list] for j in range(0,4)  ]\n",
    "print(\"Input List is : \",input_list)\n",
    "print('Output is :',output)"
   ]
  },
  {
   "cell_type": "markdown",
   "metadata": {},
   "source": [
    "# List Comprehension for [(1, 1), (2, 1), (3, 1), (1, 2), (2, 2), (3, 2), (1, 3), (2, 3), (3, 3)]"
   ]
  },
  {
   "cell_type": "code",
   "execution_count": 56,
   "metadata": {},
   "outputs": [
    {
     "name": "stdout",
     "output_type": "stream",
     "text": [
      "Input List is :  [1, 2, 3]\n",
      "Output is :  [(1, 1), (2, 1), (3, 1), (1, 2), (2, 2), (3, 2), (1, 3), (2, 3), (3, 3)]\n"
     ]
    }
   ],
   "source": [
    "input_list=[1,2,3]\n",
    "output = [ (j,i) for i in input_list for j in input_list]\n",
    "print('Input List is : ',input_list)\n",
    "print(\"Output is : \",output)\n"
   ]
  },
  {
   "cell_type": "code",
   "execution_count": null,
   "metadata": {},
   "outputs": [],
   "source": []
  }
 ],
 "metadata": {
  "kernelspec": {
   "display_name": "Python 3",
   "language": "python",
   "name": "python3"
  },
  "language_info": {
   "codemirror_mode": {
    "name": "ipython",
    "version": 3
   },
   "file_extension": ".py",
   "mimetype": "text/x-python",
   "name": "python",
   "nbconvert_exporter": "python",
   "pygments_lexer": "ipython3",
   "version": "3.8.5"
  }
 },
 "nbformat": 4,
 "nbformat_minor": 4
}
